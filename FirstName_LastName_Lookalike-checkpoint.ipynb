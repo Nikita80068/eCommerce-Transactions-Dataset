{
 "cells": [
  {
   "cell_type": "code",
   "execution_count": 1,
   "id": "29c412c6-3c74-4a72-8640-2a01de9167b7",
   "metadata": {},
   "outputs": [],
   "source": [
    "# Import necessary libraries\n",
    "import pandas as pd\n",
    "from sklearn.preprocessing import StandardScaler\n",
    "from sklearn.metrics.pairwise import cosine_similarity"
   ]
  },
  {
   "cell_type": "code",
   "execution_count": 3,
   "id": "64f9fa3c-581b-4fdf-bfbd-c16a248009f9",
   "metadata": {},
   "outputs": [],
   "source": [
    "customers = pd.read_csv(\"Customers.csv\")\n",
    "products = pd.read_csv(\"Products.csv\")\n",
    "transactions = pd.read_csv(\"Transactions.csv\")"
   ]
  },
  {
   "cell_type": "code",
   "execution_count": 4,
   "id": "cebc7fcc-6adb-4754-b773-a574fdf73ac7",
   "metadata": {},
   "outputs": [],
   "source": [
    "# Merge datasets\n",
    "merged_data = transactions.merge(customers, on=\"CustomerID\").merge(products, on=\"ProductID\")"
   ]
  },
  {
   "cell_type": "code",
   "execution_count": 5,
   "id": "757c2d8d-62a9-4025-a0bd-32c3875dbc7e",
   "metadata": {},
   "outputs": [],
   "source": [
    "# Feature Engineering\n",
    "# Aggregate transaction data for each customer\n",
    "customer_features = merged_data.groupby(\"CustomerID\").agg(\n",
    "    TotalSpend=(\"TotalValue\", \"sum\"),\n",
    "    TotalQuantity=(\"Quantity\", \"sum\"),\n",
    "    UniqueProducts=(\"ProductID\", lambda x: x.nunique()),\n",
    "    AvgTransactionValue=(\"TotalValue\", \"mean\")\n",
    ").reset_index()"
   ]
  },
  {
   "cell_type": "code",
   "execution_count": 6,
   "id": "36fc993f-161f-4f1c-ab3a-1abb5e0655e9",
   "metadata": {},
   "outputs": [],
   "source": [
    "# Normalize the features\n",
    "scaler = StandardScaler()\n",
    "normalized_features = scaler.fit_transform(customer_features.iloc[:, 1:])  # Exclude CustomerID for normalization\n"
   ]
  },
  {
   "cell_type": "code",
   "execution_count": 7,
   "id": "c00b1347-8538-4ab4-9ebd-8113263ee10e",
   "metadata": {},
   "outputs": [],
   "source": [
    "# Compute cosine similarity\n",
    "similarity_matrix = cosine_similarity(normalized_features)"
   ]
  },
  {
   "cell_type": "code",
   "execution_count": 8,
   "id": "da4b3997-cf36-4a43-85f5-e227088126bf",
   "metadata": {},
   "outputs": [],
   "source": [
    "# Find top 3 lookalikes for the first 20 customers\n",
    "lookalike_results = {}\n",
    "for idx in range(20):  # First 20 customers\n",
    "    customer_id = customer_features.iloc[idx, 0]  # Get the CustomerID\n",
    "    scores = list(enumerate(similarity_matrix[idx]))\n",
    "    sorted_scores = sorted(scores, key=lambda x: x[1], reverse=True)[1:4]  # Exclude the customer itself\n",
    "    lookalike_results[customer_id] = [(customer_features.iloc[i, 0], score) for i, score in sorted_scores]\n"
   ]
  },
  {
   "cell_type": "code",
   "execution_count": 9,
   "id": "f7963626-5e8c-446c-8289-b7251e2bdb45",
   "metadata": {},
   "outputs": [
    {
     "name": "stdout",
     "output_type": "stream",
     "text": [
      "   CustomerID Lookalike1    Score1 Lookalike2    Score2 Lookalike3    Score3\n",
      "0       C0001      C0164  0.971775      C0137  0.954396      C0103  0.946100\n",
      "1       C0002      C0029  0.999543      C0031  0.997827      C0077  0.995802\n",
      "2       C0003      C0027  0.838993      C0176  0.827958      C0073  0.765272\n",
      "3       C0004      C0075  0.997562      C0175  0.993002      C0195  0.992907\n",
      "4       C0005      C0123  0.998486      C0063  0.998121      C0095  0.996462\n",
      "5       C0006      C0079  0.999984      C0117  0.998490      C0196  0.993010\n",
      "6       C0007      C0140  0.998372      C0085  0.996300      C0080  0.992652\n",
      "7       C0008      C0090  0.988008      C0179  0.986864      C0084  0.974458\n",
      "8       C0009      C0192  0.996488      C0083  0.992422      C0043  0.992166\n",
      "9       C0010      C0029  0.975250      C0094  0.974407      C0002  0.970414\n",
      "10      C0011      C0064  0.993094      C0037  0.987955      C0171  0.986643\n",
      "11      C0012      C0102  0.992214      C0045  0.987785      C0041  0.985908\n",
      "12      C0013      C0022  0.997415      C0059  0.996821      C0141  0.996371\n",
      "13      C0014      C0128  0.997171      C0058  0.994369      C0071  0.993288\n",
      "14      C0015      C0150  0.998271      C0130  0.996564      C0186  0.996402\n",
      "15      C0016      C0107  0.968038      C0183  0.871543      C0048  0.871308\n",
      "16      C0017      C0162  0.997833      C0124  0.997219      C0175  0.990045\n",
      "17      C0018      C0182  0.989453      C0148  0.986020      C0200  0.982828\n",
      "18      C0019      C0172  0.995217      C0116  0.985173      C0174  0.964514\n",
      "19      C0020      C0110  0.998259      C0078  0.995290      C0167  0.995099\n"
     ]
    }
   ],
   "source": [
    "# Create a DataFrame for Lookalike.csv\n",
    "lookalike_data = []\n",
    "for cust_id, lookalikes in lookalike_results.items():\n",
    "    row = {\n",
    "        \"CustomerID\": cust_id,\n",
    "        \"Lookalike1\": lookalikes[0][0],\n",
    "        \"Score1\": lookalikes[0][1],\n",
    "        \"Lookalike2\": lookalikes[1][0],\n",
    "        \"Score2\": lookalikes[1][1],\n",
    "        \"Lookalike3\": lookalikes[2][0],\n",
    "        \"Score3\": lookalikes[2][1],\n",
    "    }\n",
    "    lookalike_data.append(row)\n",
    "\n",
    "lookalike_df = pd.DataFrame(lookalike_data)\n",
    "\n",
    "# Save the results to Lookalike.csv\n",
    "lookalike_df.to_csv(\"Nikita_Chauhan_Lookalike.csv\", index=False)\n",
    "\n",
    "# Output the Lookalike DataFrame\n",
    "print(lookalike_df)\n"
   ]
  },
  {
   "cell_type": "code",
   "execution_count": 10,
   "id": "ad8fbd89-36f3-4bcc-be68-2e939fab31ba",
   "metadata": {},
   "outputs": [
    {
     "name": "stdout",
     "output_type": "stream",
     "text": [
      "Average Mean Squared Error (MSE) of Feature Differences: 210926.0958\n",
      "Average Similarity Score: 0.9765\n",
      "The model's recommendations need significant improvement.\n",
      "All logic checks passed successfully.\n"
     ]
    }
   ],
   "source": [
    "# Import necessary libraries\n",
    "from sklearn.metrics import mean_squared_error\n",
    "import numpy as np\n",
    "\n",
    "# Function to evaluate quality of recommendations\n",
    "def evaluate_lookalike_model(similarity_matrix, customer_features, lookalike_results):\n",
    "    # Extract the ground truth for validation (use a small test subset for manual evaluation or business logic validation)\n",
    "    # Here, we assume that customers with similar transaction patterns should have similar TotalSpend and TotalQuantity\n",
    "    \n",
    "    # Initialize lists to track the evaluation metrics\n",
    "    mse_scores = []\n",
    "    similarity_score_sums = []\n",
    "\n",
    "    for customer_id, recommendations in lookalike_results.items():\n",
    "        # Get the features of the main customer\n",
    "        main_customer_features = customer_features[customer_features['CustomerID'] == customer_id].iloc[:, 1:].values\n",
    "        \n",
    "        for rec_customer_id, similarity_score in recommendations:\n",
    "            # Get the features of the recommended customer\n",
    "            rec_customer_features = customer_features[customer_features['CustomerID'] == rec_customer_id].iloc[:, 1:].values\n",
    "\n",
    "            # Compute the Mean Squared Error between features as a measure of similarity\n",
    "            mse = mean_squared_error(main_customer_features, rec_customer_features)\n",
    "            mse_scores.append(mse)\n",
    "            \n",
    "            # Track the similarity scores\n",
    "            similarity_score_sums.append(similarity_score)\n",
    "\n",
    "    # Average MSE\n",
    "    avg_mse = np.mean(mse_scores)\n",
    "    print(f\"Average Mean Squared Error (MSE) of Feature Differences: {avg_mse:.4f}\")\n",
    "\n",
    "    # Average Similarity Score\n",
    "    avg_similarity_score = np.mean(similarity_score_sums)\n",
    "    print(f\"Average Similarity Score: {avg_similarity_score:.4f}\")\n",
    "\n",
    "    # Quality Assessment Logic\n",
    "    if avg_mse < 0.1 and avg_similarity_score > 0.8:\n",
    "        print(\"The model provides high-quality recommendations based on the defined thresholds.\")\n",
    "    elif avg_mse < 0.2 and avg_similarity_score > 0.7:\n",
    "        print(\"The model provides good recommendations, but there is room for improvement.\")\n",
    "    else:\n",
    "        print(\"The model's recommendations need significant improvement.\")\n",
    "\n",
    "# Evaluate the logic of recommendations\n",
    "def logic_check_lookalike_results(lookalike_results, similarity_matrix):\n",
    "    \"\"\"\n",
    "    Logic validation:\n",
    "    - Ensure that no customer is recommended as their own lookalike.\n",
    "    - Check if the similarity scores are monotonically decreasing for each recommendation list.\n",
    "    \"\"\"\n",
    "    passed_logic = True\n",
    "    for customer_id, recommendations in lookalike_results.items():\n",
    "        # Check no self-recommendations\n",
    "        for rec_customer_id, _ in recommendations:\n",
    "            if customer_id == rec_customer_id:\n",
    "                print(f\"Logic Error: Customer {customer_id} is recommended as their own lookalike.\")\n",
    "                passed_logic = False\n",
    "\n",
    "        # Check similarity score order\n",
    "        scores = [rec[1] for rec in recommendations]\n",
    "        if not all(scores[i] >= scores[i + 1] for i in range(len(scores) - 1)):\n",
    "            print(f\"Logic Error: Similarity scores for Customer {customer_id} are not in descending order.\")\n",
    "            passed_logic = False\n",
    "\n",
    "    if passed_logic:\n",
    "        print(\"All logic checks passed successfully.\")\n",
    "    else:\n",
    "        print(\"Logic checks failed. Review the recommendations.\")\n",
    "\n",
    "# Run evaluation on lookalike model\n",
    "evaluate_lookalike_model(similarity_matrix, customer_features, lookalike_results)\n",
    "logic_check_lookalike_results(lookalike_results, similarity_matrix)\n"
   ]
  },
  {
   "cell_type": "code",
   "execution_count": null,
   "id": "7f91068d-7275-47a8-95b1-48ef987f5543",
   "metadata": {},
   "outputs": [],
   "source": []
  }
 ],
 "metadata": {
  "kernelspec": {
   "display_name": "Python 3 (ipykernel)",
   "language": "python",
   "name": "python3"
  },
  "language_info": {
   "codemirror_mode": {
    "name": "ipython",
    "version": 3
   },
   "file_extension": ".py",
   "mimetype": "text/x-python",
   "name": "python",
   "nbconvert_exporter": "python",
   "pygments_lexer": "ipython3",
   "version": "3.12.3"
  }
 },
 "nbformat": 4,
 "nbformat_minor": 5
}
